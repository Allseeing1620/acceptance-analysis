{
 "cells": [
  {
   "cell_type": "code",
   "id": "initial_id",
   "metadata": {
    "collapsed": true,
    "ExecuteTime": {
     "end_time": "2025-08-27T18:18:53.826078Z",
     "start_time": "2025-08-27T18:18:52.953336Z"
    }
   },
   "source": [
    "import matplotlib.pyplot as plt\n",
    "import matplotlib.image as mpimg\n",
    "import numpy as np\n",
    "from scipy.optimize import least_squares\n",
    "import pandas as pd\n",
    "import glob"
   ],
   "outputs": [],
   "execution_count": 1
  },
  {
   "metadata": {
    "ExecuteTime": {
     "end_time": "2025-08-27T18:19:00.833119Z",
     "start_time": "2025-08-27T18:18:54.565305Z"
    }
   },
   "cell_type": "code",
   "source": [
    "\n",
    "def concat_csvs_with_unique_events(files):\n",
    "    \"\"\"Load and concatenate CSV files with globally unique event IDs\"\"\"\n",
    "    dfs = []\n",
    "    offset = 0\n",
    "\n",
    "    for file in files:\n",
    "        df = pd.read_csv(file)\n",
    "        df['event'] = df['event'] + offset\n",
    "        offset = df['event'].max() + 1      # Set offset for next file\n",
    "        dfs.append(df)\n",
    "\n",
    "    return pd.concat(dfs, ignore_index=True)\n",
    "\n",
    "\n",
    "files = sorted(glob.glob('C:\\\\data\\\\meson-structure\\\\2025-08\\\\k_lambda_5x41_5000evt_*.mcpart_lambda.csv.zip'))\n",
    "\n",
    "if len(files) == 0:\n",
    "    print(\"Check the path and file name pattern.\")\n",
    "else:\n",
    "\n",
    "    combined_df = concat_csvs_with_unique_events(files)\n",
    "    combined_df.to_feather('combined_all_lambda_data.feather')\n"
   ],
   "id": "fc566bd42414a4ad",
   "outputs": [
    {
     "name": "stdout",
     "output_type": "stream",
     "text": [
      "\n",
      "The combined data is saved in 'combined_all_lambda_data.csv'\n"
     ]
    }
   ],
   "execution_count": 2
  }
 ],
 "metadata": {
  "kernelspec": {
   "display_name": "Python 3",
   "language": "python",
   "name": "python3"
  },
  "language_info": {
   "codemirror_mode": {
    "name": "ipython",
    "version": 2
   },
   "file_extension": ".py",
   "mimetype": "text/x-python",
   "name": "python",
   "nbconvert_exporter": "python",
   "pygments_lexer": "ipython2",
   "version": "2.7.6"
  }
 },
 "nbformat": 4,
 "nbformat_minor": 5
}
